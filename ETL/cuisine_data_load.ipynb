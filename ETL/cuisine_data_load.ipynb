{
 "cells": [
  {
   "cell_type": "code",
   "execution_count": 15,
   "id": "849d64ce",
   "metadata": {},
   "outputs": [],
   "source": [
    "# Run this to load the unfiltered data into your local library.\n",
    "# Before running, do the following:\n",
    "# 1.) Create philly_cuisine_db in pgAdmin\n",
    "# 2.) Run the philly_cuisine_schema.sql\n",
    "# 3.) Create a config.py with entry : \"pw = \"your postgres password\""
   ]
  },
  {
   "cell_type": "code",
   "execution_count": 16,
   "id": "c98f94ff",
   "metadata": {},
   "outputs": [],
   "source": [
    "import pandas as pd"
   ]
  },
  {
   "cell_type": "code",
   "execution_count": 17,
   "id": "296fe7ae",
   "metadata": {
    "scrolled": true
   },
   "outputs": [
    {
     "data": {
      "text/html": [
       "<div>\n",
       "<style scoped>\n",
       "    .dataframe tbody tr th:only-of-type {\n",
       "        vertical-align: middle;\n",
       "    }\n",
       "\n",
       "    .dataframe tbody tr th {\n",
       "        vertical-align: top;\n",
       "    }\n",
       "\n",
       "    .dataframe thead th {\n",
       "        text-align: right;\n",
       "    }\n",
       "</style>\n",
       "<table border=\"1\" class=\"dataframe\">\n",
       "  <thead>\n",
       "    <tr style=\"text-align: right;\">\n",
       "      <th></th>\n",
       "      <th>_id</th>\n",
       "      <th>business_id</th>\n",
       "      <th>name</th>\n",
       "      <th>address</th>\n",
       "      <th>city</th>\n",
       "      <th>state</th>\n",
       "      <th>postal_code</th>\n",
       "      <th>latitude</th>\n",
       "      <th>longitude</th>\n",
       "      <th>stars</th>\n",
       "      <th>review_count</th>\n",
       "      <th>is_open</th>\n",
       "      <th>categories</th>\n",
       "    </tr>\n",
       "  </thead>\n",
       "  <tbody>\n",
       "    <tr>\n",
       "      <th>0</th>\n",
       "      <td>{'$oid': '633640780f0a38ccd2241644'}</td>\n",
       "      <td>MTSW4McQd7CbVtyjqoe9mw</td>\n",
       "      <td>St Honore Pastries</td>\n",
       "      <td>935 Race St</td>\n",
       "      <td>Philadelphia</td>\n",
       "      <td>PA</td>\n",
       "      <td>19107</td>\n",
       "      <td>39.955505</td>\n",
       "      <td>-75.155564</td>\n",
       "      <td>4.0</td>\n",
       "      <td>80</td>\n",
       "      <td>1</td>\n",
       "      <td>Restaurants, Food, Bubble Tea, Coffee &amp; Tea, B...</td>\n",
       "    </tr>\n",
       "    <tr>\n",
       "      <th>1</th>\n",
       "      <td>{'$oid': '633640780f0a38ccd2241650'}</td>\n",
       "      <td>MUTTqe8uqyMdBl186RmNeA</td>\n",
       "      <td>Tuna Bar</td>\n",
       "      <td>205 Race St</td>\n",
       "      <td>Philadelphia</td>\n",
       "      <td>PA</td>\n",
       "      <td>19106</td>\n",
       "      <td>39.953949</td>\n",
       "      <td>-75.143226</td>\n",
       "      <td>4.0</td>\n",
       "      <td>245</td>\n",
       "      <td>1</td>\n",
       "      <td>Sushi Bars, Restaurants, Japanese</td>\n",
       "    </tr>\n",
       "    <tr>\n",
       "      <th>2</th>\n",
       "      <td>{'$oid': '633640780f0a38ccd2241654'}</td>\n",
       "      <td>ROeacJQwBeh05Rqg7F6TCg</td>\n",
       "      <td>BAP</td>\n",
       "      <td>1224 South St</td>\n",
       "      <td>Philadelphia</td>\n",
       "      <td>PA</td>\n",
       "      <td>19147</td>\n",
       "      <td>39.943223</td>\n",
       "      <td>-75.162568</td>\n",
       "      <td>4.5</td>\n",
       "      <td>205</td>\n",
       "      <td>1</td>\n",
       "      <td>Korean, Restaurants</td>\n",
       "    </tr>\n",
       "    <tr>\n",
       "      <th>3</th>\n",
       "      <td>{'$oid': '633640780f0a38ccd224165d'}</td>\n",
       "      <td>QdN72BWoyFypdGJhhI5r7g</td>\n",
       "      <td>Bar One</td>\n",
       "      <td>767 S 9th St</td>\n",
       "      <td>Philadelphia</td>\n",
       "      <td>PA</td>\n",
       "      <td>19147</td>\n",
       "      <td>39.939825</td>\n",
       "      <td>-75.157447</td>\n",
       "      <td>4.0</td>\n",
       "      <td>65</td>\n",
       "      <td>0</td>\n",
       "      <td>Cocktail Bars, Bars, Italian, Nightlife, Resta...</td>\n",
       "    </tr>\n",
       "    <tr>\n",
       "      <th>4</th>\n",
       "      <td>{'$oid': '633640780f0a38ccd2241660'}</td>\n",
       "      <td>Mjboz24M9NlBeiOJKLEd_Q</td>\n",
       "      <td>DeSandro on Main</td>\n",
       "      <td>4105 Main St</td>\n",
       "      <td>Philadelphia</td>\n",
       "      <td>PA</td>\n",
       "      <td>19127</td>\n",
       "      <td>40.022466</td>\n",
       "      <td>-75.218314</td>\n",
       "      <td>3.0</td>\n",
       "      <td>41</td>\n",
       "      <td>0</td>\n",
       "      <td>Pizza, Restaurants, Salad, Soup</td>\n",
       "    </tr>\n",
       "  </tbody>\n",
       "</table>\n",
       "</div>"
      ],
      "text/plain": [
       "                                    _id             business_id  \\\n",
       "0  {'$oid': '633640780f0a38ccd2241644'}  MTSW4McQd7CbVtyjqoe9mw   \n",
       "1  {'$oid': '633640780f0a38ccd2241650'}  MUTTqe8uqyMdBl186RmNeA   \n",
       "2  {'$oid': '633640780f0a38ccd2241654'}  ROeacJQwBeh05Rqg7F6TCg   \n",
       "3  {'$oid': '633640780f0a38ccd224165d'}  QdN72BWoyFypdGJhhI5r7g   \n",
       "4  {'$oid': '633640780f0a38ccd2241660'}  Mjboz24M9NlBeiOJKLEd_Q   \n",
       "\n",
       "                 name        address          city state postal_code  \\\n",
       "0  St Honore Pastries    935 Race St  Philadelphia    PA       19107   \n",
       "1            Tuna Bar    205 Race St  Philadelphia    PA       19106   \n",
       "2                 BAP  1224 South St  Philadelphia    PA       19147   \n",
       "3             Bar One   767 S 9th St  Philadelphia    PA       19147   \n",
       "4    DeSandro on Main   4105 Main St  Philadelphia    PA       19127   \n",
       "\n",
       "    latitude  longitude  stars  review_count  is_open  \\\n",
       "0  39.955505 -75.155564    4.0            80        1   \n",
       "1  39.953949 -75.143226    4.0           245        1   \n",
       "2  39.943223 -75.162568    4.5           205        1   \n",
       "3  39.939825 -75.157447    4.0            65        0   \n",
       "4  40.022466 -75.218314    3.0            41        0   \n",
       "\n",
       "                                          categories  \n",
       "0  Restaurants, Food, Bubble Tea, Coffee & Tea, B...  \n",
       "1                  Sushi Bars, Restaurants, Japanese  \n",
       "2                                Korean, Restaurants  \n",
       "3  Cocktail Bars, Bars, Italian, Nightlife, Resta...  \n",
       "4                    Pizza, Restaurants, Salad, Soup  "
      ]
     },
     "execution_count": 17,
     "metadata": {},
     "output_type": "execute_result"
    }
   ],
   "source": [
    "df = pd.read_json(\"../data/businesses.json\")\n",
    "df.head()"
   ]
  },
  {
   "cell_type": "code",
   "execution_count": 18,
   "id": "6a60ea3f",
   "metadata": {},
   "outputs": [
    {
     "data": {
      "text/plain": [
       "14569"
      ]
     },
     "execution_count": 18,
     "metadata": {},
     "output_type": "execute_result"
    }
   ],
   "source": [
    "len(df)"
   ]
  },
  {
   "cell_type": "markdown",
   "id": "ed9da8a1",
   "metadata": {},
   "source": [
    "# Extract the columns needed for analysis"
   ]
  },
  {
   "cell_type": "code",
   "execution_count": 19,
   "id": "8d78d6d9",
   "metadata": {},
   "outputs": [
    {
     "data": {
      "text/html": [
       "<div>\n",
       "<style scoped>\n",
       "    .dataframe tbody tr th:only-of-type {\n",
       "        vertical-align: middle;\n",
       "    }\n",
       "\n",
       "    .dataframe tbody tr th {\n",
       "        vertical-align: top;\n",
       "    }\n",
       "\n",
       "    .dataframe thead th {\n",
       "        text-align: right;\n",
       "    }\n",
       "</style>\n",
       "<table border=\"1\" class=\"dataframe\">\n",
       "  <thead>\n",
       "    <tr style=\"text-align: right;\">\n",
       "      <th></th>\n",
       "      <th>name</th>\n",
       "      <th>address</th>\n",
       "      <th>city</th>\n",
       "      <th>state</th>\n",
       "      <th>postal_code</th>\n",
       "      <th>latitude</th>\n",
       "      <th>longitude</th>\n",
       "      <th>stars</th>\n",
       "      <th>review_count</th>\n",
       "      <th>is_open</th>\n",
       "      <th>categories</th>\n",
       "    </tr>\n",
       "  </thead>\n",
       "  <tbody>\n",
       "    <tr>\n",
       "      <th>0</th>\n",
       "      <td>St Honore Pastries</td>\n",
       "      <td>935 Race St</td>\n",
       "      <td>Philadelphia</td>\n",
       "      <td>PA</td>\n",
       "      <td>19107</td>\n",
       "      <td>39.955505</td>\n",
       "      <td>-75.155564</td>\n",
       "      <td>4.0</td>\n",
       "      <td>80</td>\n",
       "      <td>1</td>\n",
       "      <td>Restaurants, Food, Bubble Tea, Coffee &amp; Tea, B...</td>\n",
       "    </tr>\n",
       "    <tr>\n",
       "      <th>1</th>\n",
       "      <td>Tuna Bar</td>\n",
       "      <td>205 Race St</td>\n",
       "      <td>Philadelphia</td>\n",
       "      <td>PA</td>\n",
       "      <td>19106</td>\n",
       "      <td>39.953949</td>\n",
       "      <td>-75.143226</td>\n",
       "      <td>4.0</td>\n",
       "      <td>245</td>\n",
       "      <td>1</td>\n",
       "      <td>Sushi Bars, Restaurants, Japanese</td>\n",
       "    </tr>\n",
       "    <tr>\n",
       "      <th>2</th>\n",
       "      <td>BAP</td>\n",
       "      <td>1224 South St</td>\n",
       "      <td>Philadelphia</td>\n",
       "      <td>PA</td>\n",
       "      <td>19147</td>\n",
       "      <td>39.943223</td>\n",
       "      <td>-75.162568</td>\n",
       "      <td>4.5</td>\n",
       "      <td>205</td>\n",
       "      <td>1</td>\n",
       "      <td>Korean, Restaurants</td>\n",
       "    </tr>\n",
       "    <tr>\n",
       "      <th>3</th>\n",
       "      <td>Bar One</td>\n",
       "      <td>767 S 9th St</td>\n",
       "      <td>Philadelphia</td>\n",
       "      <td>PA</td>\n",
       "      <td>19147</td>\n",
       "      <td>39.939825</td>\n",
       "      <td>-75.157447</td>\n",
       "      <td>4.0</td>\n",
       "      <td>65</td>\n",
       "      <td>0</td>\n",
       "      <td>Cocktail Bars, Bars, Italian, Nightlife, Resta...</td>\n",
       "    </tr>\n",
       "    <tr>\n",
       "      <th>4</th>\n",
       "      <td>DeSandro on Main</td>\n",
       "      <td>4105 Main St</td>\n",
       "      <td>Philadelphia</td>\n",
       "      <td>PA</td>\n",
       "      <td>19127</td>\n",
       "      <td>40.022466</td>\n",
       "      <td>-75.218314</td>\n",
       "      <td>3.0</td>\n",
       "      <td>41</td>\n",
       "      <td>0</td>\n",
       "      <td>Pizza, Restaurants, Salad, Soup</td>\n",
       "    </tr>\n",
       "  </tbody>\n",
       "</table>\n",
       "</div>"
      ],
      "text/plain": [
       "                 name        address          city state postal_code  \\\n",
       "0  St Honore Pastries    935 Race St  Philadelphia    PA       19107   \n",
       "1            Tuna Bar    205 Race St  Philadelphia    PA       19106   \n",
       "2                 BAP  1224 South St  Philadelphia    PA       19147   \n",
       "3             Bar One   767 S 9th St  Philadelphia    PA       19147   \n",
       "4    DeSandro on Main   4105 Main St  Philadelphia    PA       19127   \n",
       "\n",
       "    latitude  longitude  stars  review_count  is_open  \\\n",
       "0  39.955505 -75.155564    4.0            80        1   \n",
       "1  39.953949 -75.143226    4.0           245        1   \n",
       "2  39.943223 -75.162568    4.5           205        1   \n",
       "3  39.939825 -75.157447    4.0            65        0   \n",
       "4  40.022466 -75.218314    3.0            41        0   \n",
       "\n",
       "                                          categories  \n",
       "0  Restaurants, Food, Bubble Tea, Coffee & Tea, B...  \n",
       "1                  Sushi Bars, Restaurants, Japanese  \n",
       "2                                Korean, Restaurants  \n",
       "3  Cocktail Bars, Bars, Italian, Nightlife, Resta...  \n",
       "4                    Pizza, Restaurants, Salad, Soup  "
      ]
     },
     "execution_count": 19,
     "metadata": {},
     "output_type": "execute_result"
    }
   ],
   "source": [
    "philly_businesses_df = df[['name', 'address', 'city', 'state', 'postal_code',\n",
    "       'latitude', 'longitude', 'stars', 'review_count', 'is_open',\n",
    "       'categories']]\n",
    "philly_businesses_df.head()"
   ]
  },
  {
   "cell_type": "code",
   "execution_count": 20,
   "id": "efd4c036",
   "metadata": {},
   "outputs": [
    {
     "data": {
      "text/plain": [
       "14569"
      ]
     },
     "execution_count": 20,
     "metadata": {},
     "output_type": "execute_result"
    }
   ],
   "source": [
    "len(philly_businesses_df)"
   ]
  },
  {
   "cell_type": "markdown",
   "id": "2df39c61",
   "metadata": {},
   "source": [
    "# Rename the columns"
   ]
  },
  {
   "cell_type": "code",
   "execution_count": 21,
   "id": "579692b3",
   "metadata": {},
   "outputs": [],
   "source": [
    "philly_businesses_df = philly_businesses_df.rename(columns={ 'name'         : 'name'\n",
    "                                                           , 'address'      : 'address'\n",
    "                                                           , 'city'         : 'city'\n",
    "                                                           , 'state'        : 'state'\n",
    "                                                           , 'postal_code'  : 'zip_code'\n",
    "                                                           , 'latitude'     : 'latitude'\n",
    "                                                           , 'longitude'    : 'longitude'\n",
    "                                                           , 'stars'        : 'rating'\n",
    "                                                           , 'review_count' : 'review_count'\n",
    "                                                           , 'is_open'      : 'is_open'\n",
    "                                                           , 'categories'   : 'categories'\n",
    "                                                           })"
   ]
  },
  {
   "cell_type": "code",
   "execution_count": 22,
   "id": "f68c3b2c",
   "metadata": {},
   "outputs": [
    {
     "data": {
      "text/html": [
       "<div>\n",
       "<style scoped>\n",
       "    .dataframe tbody tr th:only-of-type {\n",
       "        vertical-align: middle;\n",
       "    }\n",
       "\n",
       "    .dataframe tbody tr th {\n",
       "        vertical-align: top;\n",
       "    }\n",
       "\n",
       "    .dataframe thead th {\n",
       "        text-align: right;\n",
       "    }\n",
       "</style>\n",
       "<table border=\"1\" class=\"dataframe\">\n",
       "  <thead>\n",
       "    <tr style=\"text-align: right;\">\n",
       "      <th></th>\n",
       "      <th>name</th>\n",
       "      <th>address</th>\n",
       "      <th>city</th>\n",
       "      <th>state</th>\n",
       "      <th>zip_code</th>\n",
       "      <th>latitude</th>\n",
       "      <th>longitude</th>\n",
       "      <th>rating</th>\n",
       "      <th>review_count</th>\n",
       "      <th>is_open</th>\n",
       "      <th>categories</th>\n",
       "    </tr>\n",
       "  </thead>\n",
       "  <tbody>\n",
       "    <tr>\n",
       "      <th>0</th>\n",
       "      <td>St Honore Pastries</td>\n",
       "      <td>935 Race St</td>\n",
       "      <td>Philadelphia</td>\n",
       "      <td>PA</td>\n",
       "      <td>19107</td>\n",
       "      <td>39.955505</td>\n",
       "      <td>-75.155564</td>\n",
       "      <td>4.0</td>\n",
       "      <td>80</td>\n",
       "      <td>1</td>\n",
       "      <td>Restaurants, Food, Bubble Tea, Coffee &amp; Tea, B...</td>\n",
       "    </tr>\n",
       "    <tr>\n",
       "      <th>1</th>\n",
       "      <td>Tuna Bar</td>\n",
       "      <td>205 Race St</td>\n",
       "      <td>Philadelphia</td>\n",
       "      <td>PA</td>\n",
       "      <td>19106</td>\n",
       "      <td>39.953949</td>\n",
       "      <td>-75.143226</td>\n",
       "      <td>4.0</td>\n",
       "      <td>245</td>\n",
       "      <td>1</td>\n",
       "      <td>Sushi Bars, Restaurants, Japanese</td>\n",
       "    </tr>\n",
       "    <tr>\n",
       "      <th>2</th>\n",
       "      <td>BAP</td>\n",
       "      <td>1224 South St</td>\n",
       "      <td>Philadelphia</td>\n",
       "      <td>PA</td>\n",
       "      <td>19147</td>\n",
       "      <td>39.943223</td>\n",
       "      <td>-75.162568</td>\n",
       "      <td>4.5</td>\n",
       "      <td>205</td>\n",
       "      <td>1</td>\n",
       "      <td>Korean, Restaurants</td>\n",
       "    </tr>\n",
       "    <tr>\n",
       "      <th>3</th>\n",
       "      <td>Bar One</td>\n",
       "      <td>767 S 9th St</td>\n",
       "      <td>Philadelphia</td>\n",
       "      <td>PA</td>\n",
       "      <td>19147</td>\n",
       "      <td>39.939825</td>\n",
       "      <td>-75.157447</td>\n",
       "      <td>4.0</td>\n",
       "      <td>65</td>\n",
       "      <td>0</td>\n",
       "      <td>Cocktail Bars, Bars, Italian, Nightlife, Resta...</td>\n",
       "    </tr>\n",
       "    <tr>\n",
       "      <th>4</th>\n",
       "      <td>DeSandro on Main</td>\n",
       "      <td>4105 Main St</td>\n",
       "      <td>Philadelphia</td>\n",
       "      <td>PA</td>\n",
       "      <td>19127</td>\n",
       "      <td>40.022466</td>\n",
       "      <td>-75.218314</td>\n",
       "      <td>3.0</td>\n",
       "      <td>41</td>\n",
       "      <td>0</td>\n",
       "      <td>Pizza, Restaurants, Salad, Soup</td>\n",
       "    </tr>\n",
       "  </tbody>\n",
       "</table>\n",
       "</div>"
      ],
      "text/plain": [
       "                 name        address          city state zip_code   latitude  \\\n",
       "0  St Honore Pastries    935 Race St  Philadelphia    PA    19107  39.955505   \n",
       "1            Tuna Bar    205 Race St  Philadelphia    PA    19106  39.953949   \n",
       "2                 BAP  1224 South St  Philadelphia    PA    19147  39.943223   \n",
       "3             Bar One   767 S 9th St  Philadelphia    PA    19147  39.939825   \n",
       "4    DeSandro on Main   4105 Main St  Philadelphia    PA    19127  40.022466   \n",
       "\n",
       "   longitude  rating  review_count  is_open  \\\n",
       "0 -75.155564     4.0            80        1   \n",
       "1 -75.143226     4.0           245        1   \n",
       "2 -75.162568     4.5           205        1   \n",
       "3 -75.157447     4.0            65        0   \n",
       "4 -75.218314     3.0            41        0   \n",
       "\n",
       "                                          categories  \n",
       "0  Restaurants, Food, Bubble Tea, Coffee & Tea, B...  \n",
       "1                  Sushi Bars, Restaurants, Japanese  \n",
       "2                                Korean, Restaurants  \n",
       "3  Cocktail Bars, Bars, Italian, Nightlife, Resta...  \n",
       "4                    Pizza, Restaurants, Salad, Soup  "
      ]
     },
     "execution_count": 22,
     "metadata": {},
     "output_type": "execute_result"
    }
   ],
   "source": [
    "philly_businesses_df.head()"
   ]
  },
  {
   "cell_type": "markdown",
   "id": "ac2edb76",
   "metadata": {},
   "source": [
    "# Clean up the data"
   ]
  },
  {
   "cell_type": "code",
   "execution_count": 23,
   "id": "eb3615a5",
   "metadata": {},
   "outputs": [
    {
     "data": {
      "text/plain": [
       "14560"
      ]
     },
     "execution_count": 23,
     "metadata": {},
     "output_type": "execute_result"
    }
   ],
   "source": [
    "philly_businesses_df =philly_businesses_df.dropna()\n",
    "len(philly_businesses_df)"
   ]
  },
  {
   "cell_type": "markdown",
   "id": "1757681c",
   "metadata": {},
   "source": [
    "# Connect to db"
   ]
  },
  {
   "cell_type": "code",
   "execution_count": 24,
   "id": "a840862a",
   "metadata": {},
   "outputs": [],
   "source": [
    "from config import pw\n",
    "from sqlalchemy import create_engine, text"
   ]
  },
  {
   "cell_type": "code",
   "execution_count": 25,
   "id": "23382e77",
   "metadata": {},
   "outputs": [],
   "source": [
    "protocol = 'postgresql'\n",
    "username = 'postgres'\n",
    "password = pw\n",
    "host = 'localhost'\n",
    "port = 5432\n",
    "database_name = 'philly_cuisine_db'\n",
    "rds_connection_string = f'{protocol}://{username}:{password}@{host}:{port}/{database_name}'\n",
    "engine = create_engine(rds_connection_string)"
   ]
  },
  {
   "cell_type": "markdown",
   "id": "54a6dbe4",
   "metadata": {},
   "source": [
    "# Check tables"
   ]
  },
  {
   "cell_type": "code",
   "execution_count": 26,
   "id": "84c3c084",
   "metadata": {},
   "outputs": [
    {
     "name": "stderr",
     "output_type": "stream",
     "text": [
      "/var/folders/s0/jxcz9nhj2qb3nxw_6prsbp3r0000gn/T/ipykernel_7021/4162273999.py:1: SADeprecationWarning: The Engine.table_names() method is deprecated and will be removed in a future release.  Please refer to Inspector.get_table_names(). (deprecated since: 1.4)\n",
      "  engine.table_names()\n"
     ]
    },
    {
     "data": {
      "text/plain": [
       "['philly_cuisine']"
      ]
     },
     "execution_count": 26,
     "metadata": {},
     "output_type": "execute_result"
    }
   ],
   "source": [
    "engine.table_names()"
   ]
  },
  {
   "cell_type": "markdown",
   "id": "62f89707",
   "metadata": {},
   "source": [
    "# Load the pandas dataframe into database"
   ]
  },
  {
   "cell_type": "code",
   "execution_count": 27,
   "id": "65eb596e",
   "metadata": {},
   "outputs": [
    {
     "data": {
      "text/plain": [
       "560"
      ]
     },
     "execution_count": 27,
     "metadata": {},
     "output_type": "execute_result"
    }
   ],
   "source": [
    "philly_businesses_df.to_sql(name='philly_cuisine', con=engine, if_exists='replace', index=False)"
   ]
  },
  {
   "cell_type": "markdown",
   "id": "77cca715",
   "metadata": {},
   "source": [
    "# Verify if the data were successfully loaded"
   ]
  },
  {
   "cell_type": "code",
   "execution_count": 28,
   "id": "1fde9842",
   "metadata": {},
   "outputs": [
    {
     "data": {
      "text/html": [
       "<div>\n",
       "<style scoped>\n",
       "    .dataframe tbody tr th:only-of-type {\n",
       "        vertical-align: middle;\n",
       "    }\n",
       "\n",
       "    .dataframe tbody tr th {\n",
       "        vertical-align: top;\n",
       "    }\n",
       "\n",
       "    .dataframe thead th {\n",
       "        text-align: right;\n",
       "    }\n",
       "</style>\n",
       "<table border=\"1\" class=\"dataframe\">\n",
       "  <thead>\n",
       "    <tr style=\"text-align: right;\">\n",
       "      <th></th>\n",
       "      <th>count</th>\n",
       "    </tr>\n",
       "  </thead>\n",
       "  <tbody>\n",
       "    <tr>\n",
       "      <th>0</th>\n",
       "      <td>14560</td>\n",
       "    </tr>\n",
       "  </tbody>\n",
       "</table>\n",
       "</div>"
      ],
      "text/plain": [
       "   count\n",
       "0  14560"
      ]
     },
     "execution_count": 28,
     "metadata": {},
     "output_type": "execute_result"
    }
   ],
   "source": [
    "query   =  'select count(*) from philly_cuisine'\n",
    "pd.read_sql_query(query, con=engine)"
   ]
  },
  {
   "cell_type": "code",
   "execution_count": null,
   "id": "0db37a69",
   "metadata": {},
   "outputs": [],
   "source": []
  },
  {
   "cell_type": "code",
   "execution_count": null,
   "id": "3bb8b21c",
   "metadata": {},
   "outputs": [],
   "source": []
  }
 ],
 "metadata": {
  "kernelspec": {
   "display_name": "Python 3 (ipykernel)",
   "language": "python",
   "name": "python3"
  },
  "language_info": {
   "codemirror_mode": {
    "name": "ipython",
    "version": 3
   },
   "file_extension": ".py",
   "mimetype": "text/x-python",
   "name": "python",
   "nbconvert_exporter": "python",
   "pygments_lexer": "ipython3",
   "version": "3.8.13"
  }
 },
 "nbformat": 4,
 "nbformat_minor": 5
}
